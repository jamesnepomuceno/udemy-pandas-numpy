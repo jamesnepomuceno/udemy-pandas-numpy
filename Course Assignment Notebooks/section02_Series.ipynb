{
 "cells": [
  {
   "cell_type": "code",
   "execution_count": 3,
   "id": "56ab9981",
   "metadata": {},
   "outputs": [],
   "source": [
    "# !pip install pandas"
   ]
  },
  {
   "cell_type": "code",
   "execution_count": 1,
   "id": "b2d1c5b7",
   "metadata": {},
   "outputs": [
    {
     "name": "stderr",
     "output_type": "stream",
     "text": [
      "/var/folders/z1/zt4b5v_n0yb49qxq46y1gp080000gn/T/ipykernel_1290/84709064.py:3: DeprecationWarning: \n",
      "Pyarrow will become a required dependency of pandas in the next major release of pandas (pandas 3.0),\n",
      "(to allow more performant data types, such as the Arrow string type, and better interoperability with other libraries)\n",
      "but was not found to be installed on your system.\n",
      "If this would cause problems for you,\n",
      "please provide us feedback at https://github.com/pandas-dev/pandas/issues/54466\n",
      "        \n",
      "  import pandas as pd\n"
     ]
    }
   ],
   "source": [
    "# import libraries needed\n",
    "import numpy as np\n",
    "import pandas as pd"
   ]
  },
  {
   "cell_type": "markdown",
   "id": "5c3f9e3a",
   "metadata": {},
   "source": [
    "# Starting"
   ]
  },
  {
   "cell_type": "code",
   "execution_count": 2,
   "id": "e1e0d549",
   "metadata": {},
   "outputs": [
    {
     "data": {
      "text/plain": [
       "0       0\n",
       "1       5\n",
       "2     155\n",
       "3       0\n",
       "4     518\n",
       "5       0\n",
       "6    1827\n",
       "7     616\n",
       "8     317\n",
       "9     325\n",
       "Name: Sales within series, dtype: int64"
      ]
     },
     "execution_count": 2,
     "metadata": {},
     "output_type": "execute_result"
    }
   ],
   "source": [
    "sales = [0, 5, 155, 0, 518, 0, 1827, 616 ,317,325]\n",
    "sales_series = pd.Series(sales, name='Sales within series')\n",
    "sales_series"
   ]
  },
  {
   "cell_type": "code",
   "execution_count": 3,
   "id": "ac86a0c2",
   "metadata": {},
   "outputs": [
    {
     "data": {
      "text/plain": [
       "(RangeIndex(start=0, stop=10, step=1),\n",
       " array([   0,    5,  155,    0,  518,    0, 1827,  616,  317,  325]),\n",
       " 'Sales within series')"
      ]
     },
     "execution_count": 3,
     "metadata": {},
     "output_type": "execute_result"
    }
   ],
   "source": [
    "sales_series.index, sales_series.values, sales_series.name"
   ]
  },
  {
   "cell_type": "code",
   "execution_count": 4,
   "id": "cef8cc82",
   "metadata": {},
   "outputs": [
    {
     "data": {
      "text/plain": [
       "(376.3, 376.3)"
      ]
     },
     "execution_count": 4,
     "metadata": {},
     "output_type": "execute_result"
    }
   ],
   "source": [
    "sales_series.values.mean(), sales_series.mean() # are the same"
   ]
  },
  {
   "cell_type": "code",
   "execution_count": 5,
   "id": "30bb6b25",
   "metadata": {},
   "outputs": [
    {
     "data": {
      "text/plain": [
       "Mon       0\n",
       "Tue       5\n",
       "Wed     155\n",
       "Thu       0\n",
       "Fri     518\n",
       "Sat       0\n",
       "Sun    1827\n",
       "Mon     616\n",
       "Tue     317\n",
       "Wed     325\n",
       "Name: Sales within series, dtype: int64"
      ]
     },
     "execution_count": 5,
     "metadata": {},
     "output_type": "execute_result"
    }
   ],
   "source": [
    "sales_series.index = ['Mon', 'Tue', 'Wed', 'Thu', 'Fri', 'Sat', 'Sun', 'Mon', 'Tue', 'Wed']\n",
    "sales_series"
   ]
  },
  {
   "cell_type": "code",
   "execution_count": 6,
   "id": "ca3fd7e3",
   "metadata": {},
   "outputs": [
    {
     "data": {
      "text/plain": [
       "dtype('int64')"
      ]
     },
     "execution_count": 6,
     "metadata": {},
     "output_type": "execute_result"
    }
   ],
   "source": [
    "sales_series.dtype"
   ]
  },
  {
   "cell_type": "code",
   "execution_count": 7,
   "id": "73677c88",
   "metadata": {},
   "outputs": [
    {
     "data": {
      "text/plain": [
       "Mon       0.0\n",
       "Tue       5.0\n",
       "Wed     155.0\n",
       "Thu       0.0\n",
       "Fri     518.0\n",
       "Sat       0.0\n",
       "Sun    1827.0\n",
       "Mon     616.0\n",
       "Tue     317.0\n",
       "Wed     325.0\n",
       "Name: Sales within series, dtype: float64"
      ]
     },
     "execution_count": 7,
     "metadata": {},
     "output_type": "execute_result"
    }
   ],
   "source": [
    "sales_series.astype('float')"
   ]
  },
  {
   "cell_type": "markdown",
   "id": "31a24d50",
   "metadata": {},
   "source": [
    "# Assignment 1: Series Basics\n",
    "\n",
    "The code has been previded to create an array, `oil_array` from a dataframe column. \n",
    "\n",
    "* Convert `oil_array` into a Pandas Series, called `oil_series`. Give it a name!\n",
    "* Return the name, dtype, size, and index of `oil_series`.\n",
    "\n",
    "Take the mean of the values array. \n",
    "\n",
    "Then, convert the series to integer datatype and recalculate the mean. \n"
   ]
  },
  {
   "cell_type": "code",
   "execution_count": 8,
   "id": "df36e3d6",
   "metadata": {},
   "outputs": [
    {
     "data": {
      "text/plain": [
       "(51.128299999999996, 51.128299999999996)"
      ]
     },
     "execution_count": 8,
     "metadata": {},
     "output_type": "execute_result"
    }
   ],
   "source": [
    "# create a DataFrame from the oil file, drop missing values\n",
    "oil = pd.read_csv(\"../retail/oil.csv\").dropna()\n",
    "\n",
    "# Grab 100 rows of oil prices\n",
    "oil_array = np.array(oil[\"dcoilwtico\"].iloc[1000:1100])\n",
    "oil_series = pd.Series(oil_array, name=\"Oil Price\")\n",
    "oil_array.mean(), oil_series.mean()"
   ]
  },
  {
   "cell_type": "code",
   "execution_count": 9,
   "id": "fc70abd0",
   "metadata": {},
   "outputs": [
    {
     "data": {
      "text/plain": [
       "50.66"
      ]
     },
     "execution_count": 9,
     "metadata": {},
     "output_type": "execute_result"
    }
   ],
   "source": [
    "oil_series.astype('int').mean()"
   ]
  },
  {
   "cell_type": "markdown",
   "id": "96a0fb2a",
   "metadata": {},
   "source": [
    "### The index - CLASS 39"
   ]
  },
  {
   "cell_type": "code",
   "execution_count": 10,
   "id": "1b6d11ee",
   "metadata": {},
   "outputs": [
    {
     "data": {
      "text/plain": [
       "coffee       0\n",
       "bananas      5\n",
       "tea        155\n",
       "coconut      0\n",
       "sugar      518\n",
       "Name: Sales, dtype: int64"
      ]
     },
     "execution_count": 10,
     "metadata": {},
     "output_type": "execute_result"
    }
   ],
   "source": [
    "sales = [0, 5, 155, 0, 518]\n",
    "items = ['coffee', 'bananas', 'tea', 'coconut', 'sugar']\n",
    "sales_series = pd.Series(sales, index=items, name='Sales')\n",
    "sales_series"
   ]
  },
  {
   "cell_type": "code",
   "execution_count": 11,
   "id": "a198c774",
   "metadata": {},
   "outputs": [
    {
     "data": {
      "text/plain": [
       "coffee       0\n",
       "bananas      5\n",
       "tea        155\n",
       "Name: Sales, dtype: int64"
      ]
     },
     "execution_count": 11,
     "metadata": {},
     "output_type": "execute_result"
    }
   ],
   "source": [
    "sales_series['coffee': 'tea']"
   ]
  },
  {
   "cell_type": "code",
   "execution_count": 12,
   "id": "7223d228",
   "metadata": {},
   "outputs": [
    {
     "data": {
      "text/plain": [
       "coffee     0\n",
       "bananas    5\n",
       "Name: Sales, dtype: int64"
      ]
     },
     "execution_count": 12,
     "metadata": {},
     "output_type": "execute_result"
    }
   ],
   "source": [
    "sales_series[0:2]"
   ]
  },
  {
   "cell_type": "code",
   "execution_count": 13,
   "id": "ed5dd90a",
   "metadata": {},
   "outputs": [
    {
     "data": {
      "text/plain": [
       "coffee     0\n",
       "bananas    5\n",
       "Name: Sales, dtype: int64"
      ]
     },
     "execution_count": 13,
     "metadata": {},
     "output_type": "execute_result"
    }
   ],
   "source": [
    "sales_series.iloc[0:2]"
   ]
  },
  {
   "cell_type": "code",
   "execution_count": 14,
   "metadata": {},
   "outputs": [
    {
     "data": {
      "text/plain": [
       "coffee       0\n",
       "coconut      0\n",
       "bananas      5\n",
       "tea        155\n",
       "sugar      518\n",
       "Name: Sales, dtype: int64"
      ]
     },
     "execution_count": 14,
     "metadata": {},
     "output_type": "execute_result"
    }
   ],
   "source": [
    "sales_series.sort_values()"
   ]
  },
  {
   "cell_type": "code",
   "execution_count": 15,
   "id": "d5bc48f2",
   "metadata": {},
   "outputs": [
    {
     "data": {
      "text/plain": [
       "bananas      5\n",
       "coconut      0\n",
       "coffee       0\n",
       "sugar      518\n",
       "tea        155\n",
       "Name: Sales, dtype: int64"
      ]
     },
     "execution_count": 15,
     "metadata": {},
     "output_type": "execute_result"
    }
   ],
   "source": [
    "# Assuming you have a Pandas Series called 'series'\n",
    "sorted_series = sales_series.sort_index()\n",
    "sorted_series\n"
   ]
  },
  {
   "cell_type": "markdown",
   "id": "0fa17d0b",
   "metadata": {},
   "source": [
    "### ILOC\n"
   ]
  },
  {
   "cell_type": "code",
   "execution_count": 16,
   "id": "f85b0986",
   "metadata": {},
   "outputs": [
    {
     "data": {
      "text/plain": [
       "(5,\n",
       " coconut    0\n",
       " Name: Sales, dtype: int64,\n",
       " coconut    0\n",
       " coffee     0\n",
       " Name: Sales, dtype: int64)"
      ]
     },
     "execution_count": 16,
     "metadata": {},
     "output_type": "execute_result"
    }
   ],
   "source": [
    "\n",
    "sorted_series.iloc[0], sorted_series.iloc[1:2], sorted_series.iloc[[1,2]]"
   ]
  },
  {
   "cell_type": "markdown",
   "id": "9fbd9bdf",
   "metadata": {},
   "source": [
    "\n",
    "### LOC ==> [row label, column label]"
   ]
  },
  {
   "cell_type": "code",
   "execution_count": 17,
   "id": "14c50a19",
   "metadata": {},
   "outputs": [
    {
     "data": {
      "text/plain": [
       "bananas    5\n",
       "coconut    0\n",
       "coffee     0\n",
       "Name: Sales, dtype: int64"
      ]
     },
     "execution_count": 17,
     "metadata": {},
     "output_type": "execute_result"
    }
   ],
   "source": [
    "sorted_series.loc['bananas':'coffee']"
   ]
  },
  {
   "cell_type": "code",
   "execution_count": 18,
   "id": "2fc4d99c",
   "metadata": {},
   "outputs": [
    {
     "data": {
      "text/plain": [
       "coffee       0\n",
       "bananas      5\n",
       "tea        155\n",
       "coconut      0\n",
       "sugar      518\n",
       "Name: Sales, dtype: int64"
      ]
     },
     "execution_count": 18,
     "metadata": {},
     "output_type": "execute_result"
    }
   ],
   "source": [
    "sales_series = pd.Series(sales, index=items, name='Sales')\n",
    "sales_series"
   ]
  },
  {
   "cell_type": "code",
   "execution_count": 19,
   "id": "4631d766",
   "metadata": {},
   "outputs": [
    {
     "data": {
      "text/plain": [
       "0      0\n",
       "1      5\n",
       "2    155\n",
       "3      0\n",
       "4    518\n",
       "Name: Sales, dtype: int64"
      ]
     },
     "execution_count": 19,
     "metadata": {},
     "output_type": "execute_result"
    }
   ],
   "source": [
    "sales_series.reset_index(drop=True)\n"
   ]
  },
  {
   "cell_type": "code",
   "execution_count": 20,
   "id": "0f845cfd",
   "metadata": {},
   "outputs": [
    {
     "data": {
      "text/plain": [
       "coffee       0\n",
       "bananas      5\n",
       "tea        155\n",
       "coconut      0\n",
       "sugar      518\n",
       "Name: Sales, dtype: int64"
      ]
     },
     "execution_count": 20,
     "metadata": {},
     "output_type": "execute_result"
    }
   ],
   "source": [
    "sales_series"
   ]
  },
  {
   "cell_type": "markdown",
   "id": "e380d47c",
   "metadata": {},
   "source": [
    "### Duplicate index values"
   ]
  },
  {
   "cell_type": "code",
   "execution_count": 21,
   "id": "021521c3",
   "metadata": {},
   "outputs": [
    {
     "data": {
      "text/plain": [
       "coffee       0\n",
       "coffee       5\n",
       "tea        155\n",
       "coconut      0\n",
       "sugar      518\n",
       "Name: Sales, dtype: int64"
      ]
     },
     "execution_count": 21,
     "metadata": {},
     "output_type": "execute_result"
    }
   ],
   "source": [
    "sales = [0, 5, 155, 0, 518]\n",
    "items = ['coffee', 'coffee', 'tea', 'coconut', 'sugar']\n",
    "sales_series = pd.Series(sales, index=items, name='Sales')\n",
    "sales_series"
   ]
  },
  {
   "cell_type": "code",
   "execution_count": 22,
   "id": "c04d768f",
   "metadata": {},
   "outputs": [
    {
     "data": {
      "text/plain": [
       "coffee    0\n",
       "coffee    5\n",
       "Name: Sales, dtype: int64"
      ]
     },
     "execution_count": 22,
     "metadata": {},
     "output_type": "execute_result"
    }
   ],
   "source": [
    "sales_series.loc['coffee']"
   ]
  },
  {
   "cell_type": "code",
   "execution_count": 23,
   "id": "a7a25e72",
   "metadata": {},
   "outputs": [
    {
     "data": {
      "text/html": [
       "<div>\n",
       "<style scoped>\n",
       "    .dataframe tbody tr th:only-of-type {\n",
       "        vertical-align: middle;\n",
       "    }\n",
       "\n",
       "    .dataframe tbody tr th {\n",
       "        vertical-align: top;\n",
       "    }\n",
       "\n",
       "    .dataframe thead th {\n",
       "        text-align: right;\n",
       "    }\n",
       "</style>\n",
       "<table border=\"1\" class=\"dataframe\">\n",
       "  <thead>\n",
       "    <tr style=\"text-align: right;\">\n",
       "      <th></th>\n",
       "      <th>index</th>\n",
       "      <th>Sales</th>\n",
       "    </tr>\n",
       "  </thead>\n",
       "  <tbody>\n",
       "    <tr>\n",
       "      <th>0</th>\n",
       "      <td>coffee</td>\n",
       "      <td>0</td>\n",
       "    </tr>\n",
       "    <tr>\n",
       "      <th>1</th>\n",
       "      <td>coffee</td>\n",
       "      <td>5</td>\n",
       "    </tr>\n",
       "    <tr>\n",
       "      <th>2</th>\n",
       "      <td>tea</td>\n",
       "      <td>155</td>\n",
       "    </tr>\n",
       "    <tr>\n",
       "      <th>3</th>\n",
       "      <td>coconut</td>\n",
       "      <td>0</td>\n",
       "    </tr>\n",
       "    <tr>\n",
       "      <th>4</th>\n",
       "      <td>sugar</td>\n",
       "      <td>518</td>\n",
       "    </tr>\n",
       "  </tbody>\n",
       "</table>\n",
       "</div>"
      ],
      "text/plain": [
       "     index  Sales\n",
       "0   coffee      0\n",
       "1   coffee      5\n",
       "2      tea    155\n",
       "3  coconut      0\n",
       "4    sugar    518"
      ]
     },
     "execution_count": 23,
     "metadata": {},
     "output_type": "execute_result"
    }
   ],
   "source": [
    "sales_series.reset_index()"
   ]
  },
  {
   "cell_type": "markdown",
   "id": "663f2bda",
   "metadata": {},
   "source": [
    "# Assignment 2:  Accessing Series Data\n",
    "\n",
    "* Set the date series, which has been created below, to be the index of the oil price series created in assignment 1.\n",
    "\n",
    "\n",
    "* Then, take the mean of the first 10 and last 10 prices of the series.\n",
    "\n",
    "\n",
    "* Finally, grab all oil prices from January 1st, 2017 - January 7th, 2017 (inclusive) and set the index to the default integer index."
   ]
  },
  {
   "cell_type": "code",
   "execution_count": 24,
   "id": "7dd83fec",
   "metadata": {},
   "outputs": [],
   "source": [
    "# create a DataFrame from the oil file, drop missing values\n",
    "oil = pd.read_csv(\"../retail/oil.csv\").dropna()\n",
    "oil_array = np.array(oil[\"dcoilwtico\"].iloc[1000:1100])\n",
    "oil_series = pd.Series(oil_array, name=\"Oil Price\")"
   ]
  },
  {
   "cell_type": "code",
   "execution_count": 25,
   "id": "cad8001a",
   "metadata": {},
   "outputs": [
    {
     "data": {
      "text/plain": [
       "1035    2016-12-20\n",
       "1036    2016-12-21\n",
       "1037    2016-12-22\n",
       "1038    2016-12-23\n",
       "1040    2016-12-27\n",
       "           ...    \n",
       "1135    2017-05-09\n",
       "1136    2017-05-10\n",
       "1137    2017-05-11\n",
       "1138    2017-05-12\n",
       "1139    2017-05-15\n",
       "Name: date, Length: 100, dtype: object"
      ]
     },
     "execution_count": 25,
     "metadata": {},
     "output_type": "execute_result"
    }
   ],
   "source": [
    "# extract date column from oil DataFrame and grab first 100 rows\n",
    "dates = pd.Series(oil[\"date\"]).iloc[1000:1100]\n",
    "dates"
   ]
  },
  {
   "cell_type": "code",
   "execution_count": 26,
   "id": "b917a637",
   "metadata": {},
   "outputs": [
    {
     "data": {
      "text/plain": [
       "date\n",
       "2016-12-20    52.22\n",
       "2016-12-21    51.44\n",
       "2016-12-22    51.98\n",
       "2016-12-23    52.01\n",
       "2016-12-27    52.82\n",
       "              ...  \n",
       "2017-05-09    45.84\n",
       "2017-05-10    47.28\n",
       "2017-05-11    47.81\n",
       "2017-05-12    47.83\n",
       "2017-05-15    48.86\n",
       "Name: Oil Price, Length: 100, dtype: float64"
      ]
     },
     "execution_count": 26,
     "metadata": {},
     "output_type": "execute_result"
    }
   ],
   "source": [
    "oil_series2 = pd.Series(oil_series.values, index=dates, name=\"Oil Price\")\n",
    "# or OIL_SERIE.INDEX = DATES\n",
    "oil_series2"
   ]
  },
  {
   "cell_type": "code",
   "execution_count": 27,
   "id": "801aae04",
   "metadata": {},
   "outputs": [
    {
     "data": {
      "text/plain": [
       "(52.765, 47.13)"
      ]
     },
     "execution_count": 27,
     "metadata": {},
     "output_type": "execute_result"
    }
   ],
   "source": [
    "mean_first_10 = oil_series2.iloc[0:10].mean()\n",
    "mean_last_10 = oil_series2.iloc[-10:].mean()\n",
    "mean_first_10, mean_last_10"
   ]
  },
  {
   "cell_type": "code",
   "execution_count": 28,
   "id": "44aa48a6",
   "metadata": {},
   "outputs": [
    {
     "data": {
      "text/plain": [
       "0    52.36\n",
       "1    53.26\n",
       "2    53.77\n",
       "3    53.98\n",
       "Name: Oil Price, dtype: float64"
      ]
     },
     "execution_count": 28,
     "metadata": {},
     "output_type": "execute_result"
    }
   ],
   "source": [
    "oil_series2.loc['2017-01-01':'2017-01-07'].reset_index(drop=True)\n"
   ]
  },
  {
   "cell_type": "markdown",
   "id": "3f62e1ce",
   "metadata": {},
   "source": [
    "### class 45: FILTERING SERIES\n"
   ]
  },
  {
   "cell_type": "code",
   "execution_count": 29,
   "id": "2485f044",
   "metadata": {},
   "outputs": [
    {
     "data": {
      "text/plain": [
       "coffee      5\n",
       "tea       155\n",
       "sugar     518\n",
       "Name: Sales, dtype: int64"
      ]
     },
     "execution_count": 29,
     "metadata": {},
     "output_type": "execute_result"
    }
   ],
   "source": [
    "sales_series.loc[sales_series > 0]\n"
   ]
  },
  {
   "cell_type": "code",
   "execution_count": 30,
   "id": "b541f77f",
   "metadata": {},
   "outputs": [
    {
     "data": {
      "text/plain": [
       "coffee    5\n",
       "Name: Sales, dtype: int64"
      ]
     },
     "execution_count": 30,
     "metadata": {},
     "output_type": "execute_result"
    }
   ],
   "source": [
    "mask = (sales_series > 0) & (sales_series.index == 'coffee')\n",
    "sales_series.loc[mask]"
   ]
  },
  {
   "cell_type": "code",
   "execution_count": 31,
   "id": "5ecdc656",
   "metadata": {},
   "outputs": [
    {
     "data": {
      "text/plain": [
       "coffee     False\n",
       "coffee      True\n",
       "tea        False\n",
       "coconut    False\n",
       "sugar      False\n",
       "Name: Sales, dtype: bool"
      ]
     },
     "execution_count": 31,
     "metadata": {},
     "output_type": "execute_result"
    }
   ],
   "source": [
    "sales_series == 5"
   ]
  },
  {
   "cell_type": "code",
   "execution_count": 32,
   "id": "0d6fe340",
   "metadata": {},
   "outputs": [
    {
     "data": {
      "text/plain": [
       "coffee     False\n",
       "coffee      True\n",
       "tea        False\n",
       "coconut    False\n",
       "sugar      False\n",
       "Name: Sales, dtype: bool"
      ]
     },
     "execution_count": 32,
     "metadata": {},
     "output_type": "execute_result"
    }
   ],
   "source": [
    "# pandas method, can convienently be used with .loc and chained\n",
    "sales_series.eq(5)"
   ]
  },
  {
   "cell_type": "code",
   "execution_count": 33,
   "id": "e47b032d",
   "metadata": {},
   "outputs": [
    {
     "data": {
      "text/plain": [
       "array([ True,  True,  True, False, False])"
      ]
     },
     "execution_count": 33,
     "metadata": {},
     "output_type": "execute_result"
    }
   ],
   "source": [
    "sales_series.index.isin(['coffee', 'tea'])"
   ]
  },
  {
   "cell_type": "code",
   "execution_count": 34,
   "id": "777c5041",
   "metadata": {},
   "outputs": [
    {
     "data": {
      "text/plain": [
       "array([False, False, False,  True,  True])"
      ]
     },
     "execution_count": 34,
     "metadata": {},
     "output_type": "execute_result"
    }
   ],
   "source": [
    "# sales_series in ['coffee', 'tea'] #### ERROR!\n",
    "~sales_series.index.isin(['coffee', 'tea'])"
   ]
  },
  {
   "cell_type": "code",
   "execution_count": 35,
   "id": "f6ac16ff",
   "metadata": {},
   "outputs": [
    {
     "data": {
      "text/plain": [
       "day 1    1\n",
       "day 3    3\n",
       "day 4    4\n",
       "day 5    5\n",
       "dtype: int64"
      ]
     },
     "execution_count": 35,
     "metadata": {},
     "output_type": "execute_result"
    }
   ],
   "source": [
    "my_series = pd.Series(\n",
    "    [1, 2, 3, 4, 5],\n",
    "    index=['day 1', 'day 2', 'day 3', 'day 4', 'day 5']\n",
    ")   \n",
    "my_series.loc[(my_series != 2)]"
   ]
  },
  {
   "cell_type": "code",
   "execution_count": 36,
   "id": "627f0c5b",
   "metadata": {},
   "outputs": [
    {
     "data": {
      "text/plain": [
       "day 1    1\n",
       "dtype: int64"
      ]
     },
     "execution_count": 36,
     "metadata": {},
     "output_type": "execute_result"
    }
   ],
   "source": [
    "my_series.loc[(my_series != 2) & (my_series.isin([1,2]))]"
   ]
  },
  {
   "cell_type": "markdown",
   "id": "1164a23f",
   "metadata": {},
   "source": [
    "### SORTING SERIES"
   ]
  },
  {
   "cell_type": "code",
   "execution_count": 37,
   "id": "03f2c7a1",
   "metadata": {},
   "outputs": [
    {
     "data": {
      "text/plain": [
       "coffee       0\n",
       "coconut      0\n",
       "coffee       5\n",
       "tea        155\n",
       "sugar      518\n",
       "Name: Sales, dtype: int64"
      ]
     },
     "execution_count": 37,
     "metadata": {},
     "output_type": "execute_result"
    }
   ],
   "source": [
    "sales_series.sort_values()"
   ]
  },
  {
   "cell_type": "code",
   "execution_count": 38,
   "id": "69c15164",
   "metadata": {},
   "outputs": [],
   "source": [
    "sales_series.sort_index(ascending=False, inplace=True)"
   ]
  },
  {
   "cell_type": "code",
   "execution_count": 39,
   "id": "83039db2",
   "metadata": {},
   "outputs": [
    {
     "data": {
      "text/plain": [
       "tea        155\n",
       "sugar      518\n",
       "coffee       0\n",
       "coffee       5\n",
       "coconut      0\n",
       "Name: Sales, dtype: int64"
      ]
     },
     "execution_count": 39,
     "metadata": {},
     "output_type": "execute_result"
    }
   ],
   "source": [
    "sales_series"
   ]
  },
  {
   "cell_type": "code",
   "execution_count": null,
   "id": "9dca64ad",
   "metadata": {},
   "outputs": [],
   "source": []
  },
  {
   "cell_type": "markdown",
   "id": "deec0721",
   "metadata": {},
   "source": [
    "# Assignment 3: Sorting and Filtering Series\n",
    "\n",
    "* First, get the 10 lowest prices from the data. \n",
    "* Sort the 10 lowest prices by date, starting with the most recent and ending with the oldest price.\n",
    "\n",
    "* Finally, use the list of provided dates. Select only rows with these dates that had a price of less than 50 dollars per barrel."
   ]
  },
  {
   "cell_type": "code",
   "execution_count": 40,
   "id": "fbe0e331",
   "metadata": {},
   "outputs": [
    {
     "data": {
      "text/plain": [
       "date\n",
       "2017-05-10    47.28\n",
       "2017-05-09    45.84\n",
       "2017-05-08    46.46\n",
       "2017-05-05    46.23\n",
       "2017-05-04    45.55\n",
       "2017-03-27    47.02\n",
       "2017-03-23    47.00\n",
       "2017-03-22    47.29\n",
       "2017-03-21    47.02\n",
       "2017-03-14    47.24\n",
       "Name: Oil Price, dtype: float64"
      ]
     },
     "execution_count": 40,
     "metadata": {},
     "output_type": "execute_result"
    }
   ],
   "source": [
    "oil_series2.sort_values().iloc[0:10].sort_index(ascending=False)"
   ]
  },
  {
   "cell_type": "code",
   "execution_count": 41,
   "id": "46126b3e",
   "metadata": {},
   "outputs": [],
   "source": [
    "# list of dates to be used to solve bullet \n",
    "dates = [\n",
    "    \"2016-12-22\",\n",
    "    \"2017-05-03\",\n",
    "    \"2017-01-06\",\n",
    "    \"2017-03-05\",\n",
    "    \"2017-02-12\",\n",
    "    \"2017-03-21\",\n",
    "    \"2017-04-14\",\n",
    "    \"2017-04-15\",\n",
    "]"
   ]
  },
  {
   "cell_type": "code",
   "execution_count": 42,
   "id": "2eecaa97",
   "metadata": {
    "scrolled": false
   },
   "outputs": [
    {
     "data": {
      "text/plain": [
       "date\n",
       "2017-03-21    47.02\n",
       "2017-05-03    47.79\n",
       "Name: Oil Price, dtype: float64"
      ]
     },
     "execution_count": 42,
     "metadata": {},
     "output_type": "execute_result"
    }
   ],
   "source": [
    "mask = (oil_series2.index.isin(dates)) & (oil_series2 <= 50)\n",
    "oil_series2.loc[mask]"
   ]
  },
  {
   "cell_type": "markdown",
   "id": "4864ae20",
   "metadata": {},
   "source": [
    "### ARITHMETIC OPERATORS AND METHODS"
   ]
  },
  {
   "cell_type": "code",
   "execution_count": 43,
   "id": "d87e02a8",
   "metadata": {},
   "outputs": [
    {
     "data": {
      "text/plain": [
       "tea        156\n",
       "sugar      519\n",
       "coffee       1\n",
       "coffee       6\n",
       "coconut      1\n",
       "Name: Sales, dtype: int64"
      ]
     },
     "execution_count": 43,
     "metadata": {},
     "output_type": "execute_result"
    }
   ],
   "source": [
    "sales_series + 1"
   ]
  },
  {
   "cell_type": "code",
   "execution_count": 44,
   "id": "14695437",
   "metadata": {},
   "outputs": [
    {
     "data": {
      "text/plain": [
       "tea         310\n",
       "sugar      1036\n",
       "coffee        0\n",
       "coffee       10\n",
       "coconut       0\n",
       "Name: Sales, dtype: int64"
      ]
     },
     "execution_count": 44,
     "metadata": {},
     "output_type": "execute_result"
    }
   ],
   "source": [
    "sales_series * 2"
   ]
  },
  {
   "cell_type": "code",
   "execution_count": 45,
   "id": "9bf8d0a4",
   "metadata": {},
   "outputs": [
    {
     "data": {
      "text/plain": [
       "day 1    2.0\n",
       "day 2    NaN\n",
       "day 3    3.0\n",
       "day 4    4.0\n",
       "day 5    5.0\n",
       "dtype: float64"
      ]
     },
     "execution_count": 45,
     "metadata": {},
     "output_type": "execute_result"
    }
   ],
   "source": [
    "my_series = pd.Series(\n",
    "    [1, np.NAN, 2, 3, 4],\n",
    "    index=['day 1', 'day 2', 'day 3', 'day 4', 'day 5']\n",
    ")\n",
    "my_series + 1"
   ]
  },
  {
   "cell_type": "code",
   "execution_count": 46,
   "id": "99a6ec25",
   "metadata": {},
   "outputs": [
    {
     "data": {
      "text/plain": [
       "day 1    2\n",
       "day 2    1\n",
       "day 3    3\n",
       "day 4    4\n",
       "day 5    5\n",
       "dtype: int64"
      ]
     },
     "execution_count": 46,
     "metadata": {},
     "output_type": "execute_result"
    }
   ],
   "source": [
    "my_series2 = my_series.add(1, fill_value=0).astype('int')\n",
    "my_series2"
   ]
  },
  {
   "cell_type": "code",
   "execution_count": 47,
   "id": "923c3113",
   "metadata": {},
   "outputs": [
    {
     "data": {
      "text/plain": [
       "day 1    3.0\n",
       "day 2    NaN\n",
       "day 3    5.0\n",
       "day 4    7.0\n",
       "day 5    9.0\n",
       "dtype: float64"
      ]
     },
     "execution_count": 47,
     "metadata": {},
     "output_type": "execute_result"
    }
   ],
   "source": [
    "my_series + my_series2"
   ]
  },
  {
   "cell_type": "markdown",
   "id": "c9a70d87",
   "metadata": {},
   "source": [
    "### String methods"
   ]
  },
  {
   "cell_type": "code",
   "execution_count": 48,
   "id": "b964de86",
   "metadata": {},
   "outputs": [],
   "source": [
    "prices = pd.Series(['$3.99', '$2.45', '$1.25', '$9.99'])\n",
    "some_text = pd.Series(['James 1', 'John 2', 'Robert 3', 'Mary 4'])"
   ]
  },
  {
   "cell_type": "code",
   "execution_count": 49,
   "id": "00c261f5",
   "metadata": {},
   "outputs": [
    {
     "data": {
      "text/plain": [
       "0     True\n",
       "1    False\n",
       "2    False\n",
       "3    False\n",
       "dtype: bool"
      ]
     },
     "execution_count": 49,
     "metadata": {},
     "output_type": "execute_result"
    }
   ],
   "source": [
    "prices.str.contains('3')"
   ]
  },
  {
   "cell_type": "code",
   "execution_count": 50,
   "id": "66751da8",
   "metadata": {},
   "outputs": [
    {
     "data": {
      "text/plain": [
       "0    3.99\n",
       "1    2.45\n",
       "2    1.25\n",
       "3    9.99\n",
       "dtype: float64"
      ]
     },
     "execution_count": 50,
     "metadata": {},
     "output_type": "execute_result"
    }
   ],
   "source": [
    "clean = prices.str.replace('$', '').astype('float')\n",
    "clean"
   ]
  },
  {
   "cell_type": "code",
   "execution_count": 51,
   "id": "634f0389",
   "metadata": {},
   "outputs": [
    {
     "data": {
      "text/plain": [
       "0    3.99\n",
       "1    2.45\n",
       "2    1.25\n",
       "3    9.99\n",
       "dtype: float64"
      ]
     },
     "execution_count": 51,
     "metadata": {},
     "output_type": "execute_result"
    }
   ],
   "source": [
    "clean2 = prices.str.strip('$').astype('float')\n",
    "clean2\n"
   ]
  },
  {
   "cell_type": "code",
   "execution_count": 52,
   "id": "e33e1be2",
   "metadata": {},
   "outputs": [
    {
     "data": {
      "text/plain": [
       "0     True\n",
       "1     True\n",
       "2    False\n",
       "3    False\n",
       "dtype: bool"
      ]
     },
     "execution_count": 52,
     "metadata": {},
     "output_type": "execute_result"
    }
   ],
   "source": [
    "some_text.str.upper().str.contains('J')"
   ]
  },
  {
   "cell_type": "code",
   "execution_count": 53,
   "id": "223abfd0",
   "metadata": {},
   "outputs": [
    {
     "data": {
      "text/plain": [
       "0    s 1\n",
       "1    n 2\n",
       "2    t 3\n",
       "3    y 4\n",
       "dtype: object"
      ]
     },
     "execution_count": 53,
     "metadata": {},
     "output_type": "execute_result"
    }
   ],
   "source": [
    "some_text.str[-3:]"
   ]
  },
  {
   "cell_type": "code",
   "execution_count": 54,
   "id": "15bf0e7b",
   "metadata": {},
   "outputs": [
    {
     "data": {
      "text/html": [
       "<div>\n",
       "<style scoped>\n",
       "    .dataframe tbody tr th:only-of-type {\n",
       "        vertical-align: middle;\n",
       "    }\n",
       "\n",
       "    .dataframe tbody tr th {\n",
       "        vertical-align: top;\n",
       "    }\n",
       "\n",
       "    .dataframe thead th {\n",
       "        text-align: right;\n",
       "    }\n",
       "</style>\n",
       "<table border=\"1\" class=\"dataframe\">\n",
       "  <thead>\n",
       "    <tr style=\"text-align: right;\">\n",
       "      <th></th>\n",
       "      <th>0</th>\n",
       "      <th>1</th>\n",
       "    </tr>\n",
       "  </thead>\n",
       "  <tbody>\n",
       "    <tr>\n",
       "      <th>0</th>\n",
       "      <td>James</td>\n",
       "      <td>1</td>\n",
       "    </tr>\n",
       "    <tr>\n",
       "      <th>1</th>\n",
       "      <td>John</td>\n",
       "      <td>2</td>\n",
       "    </tr>\n",
       "    <tr>\n",
       "      <th>2</th>\n",
       "      <td>Robert</td>\n",
       "      <td>3</td>\n",
       "    </tr>\n",
       "    <tr>\n",
       "      <th>3</th>\n",
       "      <td>Mary</td>\n",
       "      <td>4</td>\n",
       "    </tr>\n",
       "  </tbody>\n",
       "</table>\n",
       "</div>"
      ],
      "text/plain": [
       "        0  1\n",
       "0   James  1\n",
       "1    John  2\n",
       "2  Robert  3\n",
       "3    Mary  4"
      ]
     },
     "execution_count": 54,
     "metadata": {},
     "output_type": "execute_result"
    }
   ],
   "source": [
    "some_text.str.split(' ', expand=True)"
   ]
  },
  {
   "cell_type": "markdown",
   "id": "ce362e59",
   "metadata": {},
   "source": [
    "\n",
    "# Assignment 4: Series Operations\n",
    "\n",
    "* Increase the prices in the oil series by 10%, and add an additional 2 dollars per barrel on top of that.\n",
    "\n",
    "* Then, create a series that represents the difference between each price and max price.\n",
    "\n",
    "* Finally, extract the month from the string dates in the index and store them as an integer in their own series."
   ]
  },
  {
   "cell_type": "code",
   "execution_count": 55,
   "id": "38305859",
   "metadata": {},
   "outputs": [
    {
     "data": {
      "text/plain": [
       "date\n",
       "2016-12-20    52.22\n",
       "2016-12-21    51.44\n",
       "2016-12-22    51.98\n",
       "2016-12-23    52.01\n",
       "2016-12-27    52.82\n",
       "              ...  \n",
       "2017-05-09    45.84\n",
       "2017-05-10    47.28\n",
       "2017-05-11    47.81\n",
       "2017-05-12    47.83\n",
       "2017-05-15    48.86\n",
       "Name: Oil Price, Length: 100, dtype: float64"
      ]
     },
     "execution_count": 55,
     "metadata": {},
     "output_type": "execute_result"
    }
   ],
   "source": [
    "oil_series2"
   ]
  },
  {
   "cell_type": "code",
   "execution_count": 56,
   "id": "0f92574f",
   "metadata": {},
   "outputs": [],
   "source": [
    "new_price = (oil_series2 * 1.10) + 2"
   ]
  },
  {
   "cell_type": "code",
   "execution_count": 57,
   "id": "93fe12b0",
   "metadata": {},
   "outputs": [
    {
     "data": {
      "text/plain": [
       "54.48"
      ]
     },
     "execution_count": 57,
     "metadata": {},
     "output_type": "execute_result"
    }
   ],
   "source": [
    "max_price = oil_series2.max()\n",
    "max_price"
   ]
  },
  {
   "cell_type": "code",
   "execution_count": 58,
   "id": "98b673c0",
   "metadata": {},
   "outputs": [
    {
     "data": {
      "text/plain": [
       "date\n",
       "2016-12-20   -0.041483\n",
       "2016-12-21   -0.055800\n",
       "2016-12-22   -0.045888\n",
       "2016-12-23   -0.045338\n",
       "2016-12-27   -0.030470\n",
       "                ...   \n",
       "2017-05-09   -0.158590\n",
       "2017-05-10   -0.132159\n",
       "2017-05-11   -0.122430\n",
       "2017-05-12   -0.122063\n",
       "2017-05-15   -0.103157\n",
       "Name: Oil Price, Length: 100, dtype: float64"
      ]
     },
     "execution_count": 58,
     "metadata": {},
     "output_type": "execute_result"
    }
   ],
   "source": [
    "difference = (oil_series2 - max_price) / max_price\n",
    "difference"
   ]
  },
  {
   "cell_type": "code",
   "execution_count": 59,
   "id": "0cbd5306",
   "metadata": {},
   "outputs": [
    {
     "data": {
      "text/plain": [
       "Index([12, 12, 12, 12, 12, 12, 12, 12,  1,  1,  1,  1,  1,  1,  1,  1,  1,  1,\n",
       "        1,  1,  1,  1,  1,  1,  1,  1,  1,  1,  2,  2,  2,  2,  2,  2,  2,  2,\n",
       "        2,  2,  2,  2,  2,  2,  2,  2,  2,  2,  2,  3,  3,  3,  3,  3,  3,  3,\n",
       "        3,  3,  3,  3,  3,  3,  3,  3,  3,  3,  3,  3,  3,  3,  3,  3,  4,  4,\n",
       "        4,  4,  4,  4,  4,  4,  4,  4,  4,  4,  4,  4,  4,  4,  4,  4,  4,  5,\n",
       "        5,  5,  5,  5,  5,  5,  5,  5,  5,  5],\n",
       "      dtype='int64', name='date')"
      ]
     },
     "execution_count": 59,
     "metadata": {},
     "output_type": "execute_result"
    }
   ],
   "source": [
    "new_serie_month = oil_series2.index.str.split('-').str[1].astype('int')\n",
    "new_serie_month"
   ]
  },
  {
   "cell_type": "code",
   "execution_count": 60,
   "id": "0836c719",
   "metadata": {},
   "outputs": [
    {
     "data": {
      "text/plain": [
       "0     12\n",
       "1     12\n",
       "2     12\n",
       "3     12\n",
       "4     12\n",
       "      ..\n",
       "95     5\n",
       "96     5\n",
       "97     5\n",
       "98     5\n",
       "99     5\n",
       "Name: date, Length: 100, dtype: int64"
      ]
     },
     "execution_count": 60,
     "metadata": {},
     "output_type": "execute_result"
    }
   ],
   "source": [
    "# OR\n",
    "new_serie_month = oil_series2.index.str[5:7].astype('int')\n",
    "pd.Series(new_serie_month)"
   ]
  },
  {
   "cell_type": "markdown",
   "id": "fb8eac50",
   "metadata": {},
   "source": [
    "## NUMERIC SERIES AGGREGATION"
   ]
  },
  {
   "cell_type": "code",
   "execution_count": 61,
   "id": "aaac322a",
   "metadata": {},
   "outputs": [
    {
     "data": {
      "text/plain": [
       "tea        155\n",
       "sugar      518\n",
       "coffee       0\n",
       "coffee       5\n",
       "coconut      0\n",
       "Name: Sales, dtype: int64"
      ]
     },
     "execution_count": 61,
     "metadata": {},
     "output_type": "execute_result"
    }
   ],
   "source": [
    "sales_series"
   ]
  },
  {
   "cell_type": "code",
   "execution_count": 62,
   "id": "a969e996",
   "metadata": {},
   "outputs": [
    {
     "data": {
      "text/plain": [
       "(5, 5, 678)"
      ]
     },
     "execution_count": 62,
     "metadata": {},
     "output_type": "execute_result"
    }
   ],
   "source": [
    "sales_series.count(), sales_series.size, sales_series.sum()"
   ]
  },
  {
   "cell_type": "code",
   "execution_count": 63,
   "id": "203780d3",
   "metadata": {},
   "outputs": [
    {
     "data": {
      "text/plain": [
       "5"
      ]
     },
     "execution_count": 63,
     "metadata": {},
     "output_type": "execute_result"
    }
   ],
   "source": [
    "sales_series.loc['coffee'].sum()"
   ]
  },
  {
   "cell_type": "code",
   "execution_count": 64,
   "id": "77ac8888",
   "metadata": {},
   "outputs": [
    {
     "data": {
      "text/plain": [
       "0.25      0.0\n",
       "0.50      5.0\n",
       "0.75    155.0\n",
       "Name: Sales, dtype: float64"
      ]
     },
     "execution_count": 64,
     "metadata": {},
     "output_type": "execute_result"
    }
   ],
   "source": [
    "sales_series.quantile([0.25, 0.50, 0.75])"
   ]
  },
  {
   "cell_type": "code",
   "execution_count": 65,
   "id": "2802c930",
   "metadata": {},
   "outputs": [
    {
     "data": {
      "text/plain": [
       "(135.6, 5.0)"
      ]
     },
     "execution_count": 65,
     "metadata": {},
     "output_type": "execute_result"
    }
   ],
   "source": [
    "sales_series.mean(), sales_series.median()"
   ]
  },
  {
   "cell_type": "code",
   "execution_count": 66,
   "id": "b70eca28",
   "metadata": {},
   "outputs": [
    {
     "data": {
      "text/plain": [
       "(0, 518, array([155, 518,   0,   5]))"
      ]
     },
     "execution_count": 66,
     "metadata": {},
     "output_type": "execute_result"
    }
   ],
   "source": [
    "sales_series.min(), sales_series.max(), sales_series.unique()"
   ]
  },
  {
   "cell_type": "code",
   "execution_count": 67,
   "id": "c9e16346",
   "metadata": {},
   "outputs": [
    {
     "data": {
      "text/plain": [
       "4"
      ]
     },
     "execution_count": 67,
     "metadata": {},
     "output_type": "execute_result"
    }
   ],
   "source": [
    "sales_series.nunique()"
   ]
  },
  {
   "cell_type": "code",
   "execution_count": 68,
   "id": "da802c1f",
   "metadata": {},
   "outputs": [
    {
     "data": {
      "text/plain": [
       "0         770\n",
       "1        2111\n",
       "2        2358\n",
       "3        3487\n",
       "4        1922\n",
       "         ... \n",
       "83483    2804\n",
       "83484    1573\n",
       "83485    2255\n",
       "83486     932\n",
       "83487     802\n",
       "Name: transactions, Length: 83488, dtype: int64"
      ]
     },
     "execution_count": 68,
     "metadata": {},
     "output_type": "execute_result"
    }
   ],
   "source": [
    "transactioins = pd.read_csv(\"../retail/transactions.csv\")\n",
    "transactioins_series = pd.Series(transactioins[\"transactions\"])\n",
    "transactioins_series"
   ]
  },
  {
   "cell_type": "code",
   "execution_count": 69,
   "id": "d0cdeac2",
   "metadata": {},
   "outputs": [
    {
     "data": {
      "text/plain": [
       "0.5    1922\n",
       "Name: transactions, dtype: int64"
      ]
     },
     "execution_count": 69,
     "metadata": {},
     "output_type": "execute_result"
    }
   ],
   "source": [
    "transactioins_series.loc[:5].quantile([0.50], interpolation='nearest')\n",
    "\n",
    "# o nearest pegará o valor mais próximo"
   ]
  },
  {
   "cell_type": "markdown",
   "id": "1eca164c",
   "metadata": {},
   "source": [
    "## CATEGORICAL SERIES AGGREGATION"
   ]
  },
  {
   "cell_type": "code",
   "execution_count": 72,
   "id": "ea58cf73",
   "metadata": {},
   "outputs": [],
   "source": [
    "items_series = pd.Series(items)"
   ]
  },
  {
   "cell_type": "code",
   "execution_count": 74,
   "id": "81590f07",
   "metadata": {},
   "outputs": [
    {
     "data": {
      "text/plain": [
       "array(['coffee', 'tea', 'coconut', 'sugar'], dtype=object)"
      ]
     },
     "execution_count": 74,
     "metadata": {},
     "output_type": "execute_result"
    }
   ],
   "source": [
    "items_series.unique()"
   ]
  },
  {
   "cell_type": "code",
   "execution_count": 75,
   "id": "3e5baf23",
   "metadata": {},
   "outputs": [
    {
     "data": {
      "text/plain": [
       "4"
      ]
     },
     "execution_count": 75,
     "metadata": {},
     "output_type": "execute_result"
    }
   ],
   "source": [
    "items_series.nunique()"
   ]
  },
  {
   "cell_type": "code",
   "execution_count": 76,
   "id": "3bba6a63",
   "metadata": {},
   "outputs": [
    {
     "data": {
      "text/plain": [
       "coffee     2\n",
       "tea        1\n",
       "coconut    1\n",
       "sugar      1\n",
       "Name: count, dtype: int64"
      ]
     },
     "execution_count": 76,
     "metadata": {},
     "output_type": "execute_result"
    }
   ],
   "source": [
    "items_series.value_counts()"
   ]
  },
  {
   "cell_type": "code",
   "execution_count": 77,
   "id": "3005ba10",
   "metadata": {},
   "outputs": [
    {
     "data": {
      "text/plain": [
       "coffee     0.4\n",
       "tea        0.2\n",
       "coconut    0.2\n",
       "sugar      0.2\n",
       "Name: proportion, dtype: float64"
      ]
     },
     "execution_count": 77,
     "metadata": {},
     "output_type": "execute_result"
    }
   ],
   "source": [
    "items_series.value_counts(normalize=True)"
   ]
  },
  {
   "cell_type": "markdown",
   "id": "4735ed48",
   "metadata": {},
   "source": [
    "# Assignment 5: Series Aggregations\n",
    "\n",
    "* Calculate the sum and mean of prices in the month of March. \n",
    "\n",
    "* Next, calculate how many prices were recorded in January and February.\n",
    "\n",
    "* Then, calculate the 10th and 90th percentiles across all data.\n",
    "\n",
    "* Finally, how often did integer dollar value (e.g. 51, 52) occur in the data? Normalize this to a percentage.   "
   ]
  },
  {
   "cell_type": "code",
   "execution_count": 84,
   "id": "b7846132",
   "metadata": {},
   "outputs": [],
   "source": [
    "oil_series3 = oil_series2.copy()\n",
    "oil_series3.index = pd.to_datetime(oil_series3.index)"
   ]
  },
  {
   "cell_type": "code",
   "execution_count": 87,
   "id": "2d0ea594",
   "metadata": {},
   "outputs": [
    {
     "data": {
      "text/plain": [
       "1134.5399999999997"
      ]
     },
     "execution_count": 87,
     "metadata": {},
     "output_type": "execute_result"
    }
   ],
   "source": [
    "oil_series3[oil_series3.index.month == 3].sum()"
   ]
  },
  {
   "cell_type": "code",
   "execution_count": 88,
   "id": "d220d35d",
   "metadata": {},
   "outputs": [
    {
     "data": {
      "text/plain": [
       "49.32782608695651"
      ]
     },
     "execution_count": 88,
     "metadata": {},
     "output_type": "execute_result"
    }
   ],
   "source": [
    "oil_series3[oil_series3.index.month == 3].mean()"
   ]
  },
  {
   "cell_type": "code",
   "execution_count": 91,
   "id": "99e80e0e",
   "metadata": {},
   "outputs": [
    {
     "data": {
      "text/plain": [
       "39"
      ]
     },
     "execution_count": 91,
     "metadata": {},
     "output_type": "execute_result"
    }
   ],
   "source": [
    "## OU\n",
    "\n",
    "oil_series2[oil_series2.index.str[5:7].isin(['01', '02'])].count()"
   ]
  },
  {
   "cell_type": "code",
   "execution_count": 90,
   "id": "fdbd3f03",
   "metadata": {},
   "outputs": [
    {
     "data": {
      "text/plain": [
       "0.1    47.299\n",
       "0.9    53.811\n",
       "Name: Oil Price, dtype: float64"
      ]
     },
     "execution_count": 90,
     "metadata": {},
     "output_type": "execute_result"
    }
   ],
   "source": [
    "oil_series3.quantile([0.1, 0.9])"
   ]
  },
  {
   "cell_type": "code",
   "execution_count": 95,
   "id": "98a24c30",
   "metadata": {},
   "outputs": [
    {
     "data": {
      "text/plain": [
       "date\n",
       "2016-12-20    52.22\n",
       "2016-12-21    51.44\n",
       "2016-12-22    51.98\n",
       "2016-12-23    52.01\n",
       "2016-12-27    52.82\n",
       "2017-01-03    52.36\n",
       "2017-01-09    51.95\n",
       "2017-01-11    52.19\n",
       "2017-01-13    52.36\n",
       "2017-01-17    52.45\n",
       "2017-01-18    51.12\n",
       "2017-01-19    51.39\n",
       "2017-01-20    52.33\n",
       "2017-01-23    52.77\n",
       "2017-01-24    52.38\n",
       "2017-01-25    52.14\n",
       "2017-01-30    52.63\n",
       "2017-01-31    52.75\n",
       "2017-02-07    52.19\n",
       "2017-02-08    52.37\n",
       "2017-02-09    52.99\n",
       "2017-02-13    52.96\n",
       "2017-03-02    52.63\n",
       "2017-03-07    52.68\n",
       "2017-04-05    51.14\n",
       "2017-04-06    51.69\n",
       "2017-04-07    52.25\n",
       "2017-04-17    52.62\n",
       "2017-04-18    52.46\n",
       "Name: Oil Price, dtype: float64"
      ]
     },
     "execution_count": 95,
     "metadata": {},
     "output_type": "execute_result"
    }
   ],
   "source": [
    "# Finally, how often did integer dollar value (e.g. 51, 52) \n",
    "# occur in the data? Normalize this to a percentage.   \n",
    "\n",
    "oil_series2[oil_series2.astype('int').isin([52, 51])]\n"
   ]
  },
  {
   "cell_type": "code",
   "execution_count": 97,
   "id": "9a0716af",
   "metadata": {},
   "outputs": [
    {
     "data": {
      "text/plain": [
       "Oil Price\n",
       "53    0.26\n",
       "52    0.22\n",
       "Name: proportion, dtype: float64"
      ]
     },
     "execution_count": 97,
     "metadata": {},
     "output_type": "execute_result"
    }
   ],
   "source": [
    "oil_series2.astype('int').value_counts(normalize=True)[0:2]"
   ]
  },
  {
   "cell_type": "markdown",
   "id": "617ebf09",
   "metadata": {},
   "source": [
    "## CLASS 57: Missing Data"
   ]
  },
  {
   "cell_type": "code",
   "execution_count": 102,
   "id": "dd3ed153",
   "metadata": {},
   "outputs": [
    {
     "data": {
      "text/plain": [
       "0      0.0\n",
       "1      5.0\n",
       "2    155.0\n",
       "3      NaN\n",
       "4      0.0\n",
       "5    518.0\n",
       "Name: Sales, dtype: float64"
      ]
     },
     "execution_count": 102,
     "metadata": {},
     "output_type": "execute_result"
    }
   ],
   "source": [
    "sales = [0, 5, 155, np.nan, 0, 518]\n",
    "sales_series = pd.Series(sales, name='Sales')\n",
    "sales_series"
   ]
  },
  {
   "cell_type": "code",
   "execution_count": 103,
   "id": "53fae2d3",
   "metadata": {},
   "outputs": [
    {
     "data": {
      "text/plain": [
       "0      2.0\n",
       "1      7.0\n",
       "2    157.0\n",
       "3      NaN\n",
       "4      2.0\n",
       "5    520.0\n",
       "Name: Sales, dtype: float64"
      ]
     },
     "execution_count": 103,
     "metadata": {},
     "output_type": "execute_result"
    }
   ],
   "source": [
    "sales_series + 2"
   ]
  },
  {
   "cell_type": "code",
   "execution_count": 104,
   "id": "b4a4862e",
   "metadata": {},
   "outputs": [
    {
     "data": {
      "text/plain": [
       "0      2.0\n",
       "1      7.0\n",
       "2    157.0\n",
       "3      2.0\n",
       "4      2.0\n",
       "5    520.0\n",
       "Name: Sales, dtype: float64"
      ]
     },
     "execution_count": 104,
     "metadata": {},
     "output_type": "execute_result"
    }
   ],
   "source": [
    "sales_series.add(2, fill_value=0)"
   ]
  },
  {
   "cell_type": "markdown",
   "id": "b86675b0",
   "metadata": {},
   "source": [
    "## CLASS 58: Indentifying missing data"
   ]
  },
  {
   "cell_type": "code",
   "execution_count": 105,
   "id": "5ceef94e",
   "metadata": {},
   "outputs": [
    {
     "data": {
      "text/plain": [
       "(0    False\n",
       " 1    False\n",
       " 2    False\n",
       " 3     True\n",
       " 4    False\n",
       " 5    False\n",
       " Name: Sales, dtype: bool,\n",
       " 0    False\n",
       " 1    False\n",
       " 2    False\n",
       " 3     True\n",
       " 4    False\n",
       " 5    False\n",
       " Name: Sales, dtype: bool)"
      ]
     },
     "execution_count": 105,
     "metadata": {},
     "output_type": "execute_result"
    }
   ],
   "source": [
    "sales_series.isna(), sales_series.isnull()"
   ]
  },
  {
   "cell_type": "code",
   "execution_count": 106,
   "id": "db18742a",
   "metadata": {},
   "outputs": [
    {
     "data": {
      "text/plain": [
       "1"
      ]
     },
     "execution_count": 106,
     "metadata": {},
     "output_type": "execute_result"
    }
   ],
   "source": [
    "sales_series.isna().sum()"
   ]
  },
  {
   "cell_type": "code",
   "execution_count": 107,
   "id": "035a4f39",
   "metadata": {},
   "outputs": [
    {
     "data": {
      "text/plain": [
       "Sales\n",
       "0.0      2\n",
       "5.0      1\n",
       "155.0    1\n",
       "NaN      1\n",
       "518.0    1\n",
       "Name: count, dtype: int64"
      ]
     },
     "execution_count": 107,
     "metadata": {},
     "output_type": "execute_result"
    }
   ],
   "source": [
    "sales_series.value_counts(dropna=False)"
   ]
  },
  {
   "cell_type": "markdown",
   "id": "0394ca89",
   "metadata": {},
   "source": [
    "## CLASS 59: Handling missing data"
   ]
  },
  {
   "cell_type": "code",
   "execution_count": 112,
   "id": "c8484a9f",
   "metadata": {},
   "outputs": [
    {
     "data": {
      "text/plain": [
       "0      0.0\n",
       "1      5.0\n",
       "2    155.0\n",
       "4      0.0\n",
       "5    518.0\n",
       "Name: Sales, dtype: float64"
      ]
     },
     "execution_count": 112,
     "metadata": {},
     "output_type": "execute_result"
    }
   ],
   "source": [
    "sales_series.dropna()   # breaks the index"
   ]
  },
  {
   "cell_type": "code",
   "execution_count": 114,
   "id": "b898f2d8",
   "metadata": {},
   "outputs": [
    {
     "data": {
      "text/plain": [
       "0      0.0\n",
       "1      5.0\n",
       "2    155.0\n",
       "3      0.0\n",
       "4    518.0\n",
       "Name: Sales, dtype: float64"
      ]
     },
     "execution_count": 114,
     "metadata": {},
     "output_type": "execute_result"
    }
   ],
   "source": [
    "sales_series.dropna().reset_index(drop=True)   # fix the index"
   ]
  },
  {
   "cell_type": "code",
   "execution_count": 117,
   "id": "242bf551",
   "metadata": {},
   "outputs": [
    {
     "data": {
      "text/plain": [
       "0      0.0\n",
       "1      5.0\n",
       "2    155.0\n",
       "3      5.0\n",
       "4      0.0\n",
       "5    518.0\n",
       "Name: Sales, dtype: float64"
      ]
     },
     "execution_count": 117,
     "metadata": {},
     "output_type": "execute_result"
    }
   ],
   "source": [
    "sales_series.fillna(sales_series.median())"
   ]
  },
  {
   "cell_type": "code",
   "execution_count": null,
   "id": "dd0d2f26",
   "metadata": {},
   "outputs": [],
   "source": []
  },
  {
   "cell_type": "code",
   "execution_count": null,
   "id": "d7f82684",
   "metadata": {},
   "outputs": [],
   "source": []
  },
  {
   "cell_type": "markdown",
   "id": "b81e8ab9",
   "metadata": {},
   "source": [
    "# Assignment 6: Missing Data\n",
    "\n",
    "There were some erroneous prices in our data, so they were filled in with missing values.\n",
    "\n",
    "Can you confirm the number of missing values in the price column? \n",
    "\n",
    "Once you’ve done that, fill the prices in with the median of the oil price series.\n"
   ]
  },
  {
   "cell_type": "code",
   "execution_count": 121,
   "id": "6d5fdec5",
   "metadata": {
    "scrolled": true
   },
   "outputs": [],
   "source": [
    "# Fill in two values with missing data\n",
    "\n",
    "oil_series2 = oil_series2.where(~oil_series2.isin([51.44, 47.83]), pd.NA)"
   ]
  },
  {
   "cell_type": "code",
   "execution_count": 123,
   "id": "4c9fc3a5",
   "metadata": {},
   "outputs": [
    {
     "data": {
      "text/plain": [
       "date\n",
       "2016-12-20    52.22\n",
       "2016-12-21      NaN\n",
       "2016-12-22    51.98\n",
       "2016-12-23    52.01\n",
       "2016-12-27    52.82\n",
       "              ...  \n",
       "2017-05-09    45.84\n",
       "2017-05-10    47.28\n",
       "2017-05-11    47.81\n",
       "2017-05-12      NaN\n",
       "2017-05-15    48.86\n",
       "Name: Oil Price, Length: 100, dtype: float64"
      ]
     },
     "execution_count": 123,
     "metadata": {},
     "output_type": "execute_result"
    }
   ],
   "source": [
    "oil_series2"
   ]
  },
  {
   "cell_type": "code",
   "execution_count": 120,
   "id": "1ec16104",
   "metadata": {
    "scrolled": true
   },
   "outputs": [
    {
     "data": {
      "text/plain": [
       "2"
      ]
     },
     "execution_count": 120,
     "metadata": {},
     "output_type": "execute_result"
    }
   ],
   "source": [
    "oil_series.isna().sum()\n"
   ]
  },
  {
   "cell_type": "code",
   "execution_count": 124,
   "id": "3ddc4c2a",
   "metadata": {},
   "outputs": [
    {
     "data": {
      "text/plain": [
       "date\n",
       "2016-12-20    52.220\n",
       "2016-12-21    52.205\n",
       "2016-12-22    51.980\n",
       "2016-12-23    52.010\n",
       "2016-12-27    52.820\n",
       "               ...  \n",
       "2017-05-09    45.840\n",
       "2017-05-10    47.280\n",
       "2017-05-11    47.810\n",
       "2017-05-12    52.205\n",
       "2017-05-15    48.860\n",
       "Name: Oil Price, Length: 100, dtype: float64"
      ]
     },
     "execution_count": 124,
     "metadata": {},
     "output_type": "execute_result"
    }
   ],
   "source": [
    "oil_series2.fillna(oil_series2.median())"
   ]
  },
  {
   "cell_type": "markdown",
   "id": "5e332678",
   "metadata": {},
   "source": [
    "## Class 62: Apply Method"
   ]
  },
  {
   "cell_type": "code",
   "execution_count": 128,
   "id": "dd7c6470",
   "metadata": {},
   "outputs": [
    {
     "data": {
      "text/plain": [
       "0      0.0\n",
       "1      5.0\n",
       "2    155.0\n",
       "3      NaN\n",
       "4      0.0\n",
       "5    518.0\n",
       "Name: Sales, dtype: float64"
      ]
     },
     "execution_count": 128,
     "metadata": {},
     "output_type": "execute_result"
    }
   ],
   "source": [
    "sales_series"
   ]
  },
  {
   "cell_type": "code",
   "execution_count": 129,
   "id": "ad72f74f",
   "metadata": {},
   "outputs": [
    {
     "data": {
      "text/plain": [
       "0      0.0\n",
       "1      5.0\n",
       "2    139.5\n",
       "3      NaN\n",
       "4      0.0\n",
       "5    466.2\n",
       "Name: Sales, dtype: float64"
      ]
     },
     "execution_count": 129,
     "metadata": {},
     "output_type": "execute_result"
    }
   ],
   "source": [
    "def discount(price):\n",
    "    if price > 20:\n",
    "        return round(price * 0.9,2)\n",
    "    else:\n",
    "        return price\n",
    "    \n",
    "sales_series.apply(discount)"
   ]
  },
  {
   "cell_type": "code",
   "execution_count": 130,
   "id": "f629f452",
   "metadata": {},
   "outputs": [
    {
     "data": {
      "text/plain": [
       "0      0.0\n",
       "1      5.0\n",
       "2    139.5\n",
       "3      NaN\n",
       "4      0.0\n",
       "5    466.2\n",
       "Name: Sales, dtype: float64"
      ]
     },
     "execution_count": 130,
     "metadata": {},
     "output_type": "execute_result"
    }
   ],
   "source": [
    "sales_series.apply(lambda x: round(x * 0.9,2) if x > 20 else x)"
   ]
  },
  {
   "cell_type": "markdown",
   "id": "71c98418",
   "metadata": {},
   "source": [
    "## 63 class: The where methodm. OBS: Acts with the expressions is FALSE?!?!?!?!?"
   ]
  },
  {
   "cell_type": "code",
   "execution_count": 135,
   "id": "b20f49b4",
   "metadata": {},
   "outputs": [
    {
     "data": {
      "text/plain": [
       "0    3.99\n",
       "1    2.45\n",
       "2    1.25\n",
       "3    9.99\n",
       "4    5.77\n",
       "dtype: float64"
      ]
     },
     "execution_count": 135,
     "metadata": {},
     "output_type": "execute_result"
    }
   ],
   "source": [
    "clean_wholesale = pd.Series(['3.99', '2.45', '1.25', '9.99', '5.77']).astype('float')\n",
    "clean_wholesale"
   ]
  },
  {
   "cell_type": "code",
   "execution_count": 138,
   "id": "80ea5f1f",
   "metadata": {},
   "outputs": [
    {
     "data": {
      "text/plain": [
       "0    3.990\n",
       "1    2.450\n",
       "2    1.250\n",
       "3    4.995\n",
       "4    2.885\n",
       "dtype: float64"
      ]
     },
     "execution_count": 138,
     "metadata": {},
     "output_type": "execute_result"
    }
   ],
   "source": [
    "clean_wholesale.where(clean_wholesale <= 5, clean_wholesale * 0.5)"
   ]
  },
  {
   "cell_type": "code",
   "execution_count": 140,
   "id": "580b3902",
   "metadata": {},
   "outputs": [
    {
     "data": {
      "text/plain": [
       "array([1.995, 1.225, 0.625, 9.99 , 5.77 ])"
      ]
     },
     "execution_count": 140,
     "metadata": {},
     "output_type": "execute_result"
    }
   ],
   "source": [
    "np.where(clean_wholesale <= 5, clean_wholesale * 0.5, clean_wholesale * 1)"
   ]
  },
  {
   "cell_type": "markdown",
   "id": "19a0e70c",
   "metadata": {},
   "source": [
    "# Exercise 7: Apply and Where\n",
    "\n",
    "Write a function that outputs ‘buy’ if price is less than the 90th percentile and ‘wait’ if it’s not. Apply it to the oil series.\n",
    "\n",
    "Then, create a series that multiplies price by .9 if the date is ‘2016-12-23’ or ‘2017-05-10’, and 1.1 for all other dates. "
   ]
  },
  {
   "cell_type": "code",
   "execution_count": 142,
   "id": "e508687c",
   "metadata": {},
   "outputs": [
    {
     "data": {
      "text/plain": [
       "0     52.22\n",
       "1       NaN\n",
       "2     51.98\n",
       "3     52.01\n",
       "4     52.82\n",
       "      ...  \n",
       "95    45.84\n",
       "96    47.28\n",
       "97    47.81\n",
       "98      NaN\n",
       "99    48.86\n",
       "Name: Oil Price, Length: 100, dtype: float64"
      ]
     },
     "execution_count": 142,
     "metadata": {},
     "output_type": "execute_result"
    }
   ],
   "source": [
    "def my_function(price, perc_90):\n",
    "    if price < perc_90:\n",
    "        return 'buy'\n",
    "    else:\n",
    "        return 'wait'\n",
    "\n",
    "oil_series"
   ]
  },
  {
   "cell_type": "code",
   "execution_count": 143,
   "id": "3496ec24",
   "metadata": {},
   "outputs": [
    {
     "data": {
      "text/plain": [
       "0      buy\n",
       "1     wait\n",
       "2      buy\n",
       "3      buy\n",
       "4      buy\n",
       "      ... \n",
       "95     buy\n",
       "96     buy\n",
       "97     buy\n",
       "98    wait\n",
       "99     buy\n",
       "Name: Oil Price, Length: 100, dtype: object"
      ]
     },
     "execution_count": 143,
     "metadata": {},
     "output_type": "execute_result"
    }
   ],
   "source": [
    "oil_series.apply(my_function, perc_90=oil_series.quantile(0.9))"
   ]
  },
  {
   "cell_type": "code",
   "execution_count": 149,
   "id": "6e9ec561",
   "metadata": {},
   "outputs": [
    {
     "data": {
      "text/plain": [
       "date\n",
       "2016-12-20    57.442\n",
       "2016-12-21       NaN\n",
       "2016-12-22    57.178\n",
       "2016-12-23    57.211\n",
       "2016-12-27    58.102\n",
       "               ...  \n",
       "2017-05-09    50.424\n",
       "2017-05-10    52.008\n",
       "2017-05-11    52.591\n",
       "2017-05-12       NaN\n",
       "2017-05-15    53.746\n",
       "Length: 100, dtype: float64"
      ]
     },
     "execution_count": 149,
     "metadata": {},
     "output_type": "execute_result"
    }
   ],
   "source": [
    "# Then, create a series that multiplies price by .9 if the date is ‘2016-12-23’ or ‘2017-05-10’, and 1.1 for all other dates. \n",
    "\n",
    "pd.Series(np.where(oil_series2.isin(['2016-12-23' or '2017-05-10']), oil_series2 * 0.9, oil_series2 * 1.1), index=oil_series2.index)"
   ]
  }
 ],
 "metadata": {
  "kernelspec": {
   "display_name": "Python 3 (ipykernel)",
   "language": "python",
   "name": "python3"
  },
  "language_info": {
   "codemirror_mode": {
    "name": "ipython",
    "version": 3
   },
   "file_extension": ".py",
   "mimetype": "text/x-python",
   "name": "python",
   "nbconvert_exporter": "python",
   "pygments_lexer": "ipython3",
   "version": "3.11.5"
  }
 },
 "nbformat": 4,
 "nbformat_minor": 5
}
