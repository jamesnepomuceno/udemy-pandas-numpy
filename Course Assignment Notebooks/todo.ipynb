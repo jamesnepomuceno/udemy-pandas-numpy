{
 "cells": [
  {
   "cell_type": "markdown",
   "metadata": {},
   "source": [
    "Section 04:\n",
    "- Aggregation\n",
    "- Transformation\n",
    "- assign\n",
    "- pivot_table\n"
   ]
  },
  {
   "cell_type": "markdown",
   "metadata": {},
   "source": [
    "More data visualization libs:\n",
    "- matplotlib\n",
    "- seaborn\n",
    "- plotly\n",
    "- Folium (newest)"
   ]
  }
 ],
 "metadata": {
  "language_info": {
   "name": "python"
  }
 },
 "nbformat": 4,
 "nbformat_minor": 2
}
